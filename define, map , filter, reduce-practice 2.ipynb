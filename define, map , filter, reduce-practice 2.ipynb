{
 "cells": [
  {
   "cell_type": "markdown",
   "metadata": {},
   "source": [
    "1. A list of words is given. Convert the words into uppercase (use lambda and map functions)"
   ]
  },
  {
   "cell_type": "code",
   "execution_count": 2,
   "metadata": {},
   "outputs": [
    {
     "data": {
      "text/plain": [
       "['TRUE', 'FALSE', 'TRUE', 'TRUE', 'FALSE', 'FALSE', 'TRUE']"
      ]
     },
     "execution_count": 2,
     "metadata": {},
     "output_type": "execute_result"
    }
   ],
   "source": [
    "lsbool = ['True','FALse','tRUe','tRue','False','faLse','True']\n",
    "\n",
    "    \n",
    "list(map(lambda x:x.upper(),lsbool))"
   ]
  },
  {
   "cell_type": "markdown",
   "metadata": {},
   "source": [
    "2. Write a function to print the height of students in the class (here count of students is not\n",
    "fixed)"
   ]
  },
  {
   "cell_type": "code",
   "execution_count": 8,
   "metadata": {},
   "outputs": [
    {
     "name": "stdout",
     "output_type": "stream",
     "text": [
      "100\n",
      "105\n",
      "106\n",
      "100\n",
      "108\n",
      "106\n",
      "105\n",
      "104\n"
     ]
    }
   ],
   "source": [
    "def height(*c):\n",
    "    for i in c:\n",
    "        print(i)\n",
    "height(100,105,106,100,108,106,105,104)"
   ]
  },
  {
   "cell_type": "markdown",
   "metadata": {},
   "source": [
    "3. Create a dictionary containing four lambda functions square, cube, squareroot, multiply by\n",
    "2.\n",
    "E.g. dict = {'Square': function for squaring, 'Cube': function for cube, 'Squareroot': function\n",
    "for squareroot, 'Double': function for double} and so on\n",
    "Pass the values (input from the user) to the functions in the dictionary respectively. Then add\n",
    "the outputs of each function and print it."
   ]
  },
  {
   "cell_type": "code",
   "execution_count": 11,
   "metadata": {},
   "outputs": [
    {
     "name": "stdout",
     "output_type": "stream",
     "text": [
      "enter the number5\n",
      "162.2360679774998\n"
     ]
    }
   ],
   "source": [
    "dict1 = {'Square': lambda x:x**2, 'Cube':  lambda x:x**3, 'Squareroot':  lambda x:x**(1/2), 'Double':  lambda x:x*2}\n",
    "y=float(input('enter the number'))\n",
    "\n",
    "sum1=sum(v(y) for k,v in dict1.items())\n",
    "print(sum1)"
   ]
  },
  {
   "cell_type": "markdown",
   "metadata": {},
   "source": [
    "4. A list of words is given. Define a function to find the words from the list that have their\n",
    "second character in uppercase\n",
    "\n",
    "s = ['hello', 'Dear', 'hOw', 'ARe', 'You']\n",
    "Output: ['hOw', 'ARe']\n"
   ]
  },
  {
   "cell_type": "code",
   "execution_count": 22,
   "metadata": {},
   "outputs": [
    {
     "name": "stdout",
     "output_type": "stream",
     "text": [
      "['hOw', 'ARe']\n"
     ]
    }
   ],
   "source": [
    "s = ['hello', 'Dear', 'hOw', 'ARe', 'You'] \n",
    "\n",
    "result=list(filter(lambda j:j[1].isupper(),s))\n",
    "print(result)"
   ]
  },
  {
   "cell_type": "markdown",
   "metadata": {},
   "source": [
    "5. Define a function to filter the marks from the tuple \"tmarks\" that are greater than 40 and\n",
    "print corresponding names from the \"tnames\" tuple"
   ]
  },
  {
   "cell_type": "code",
   "execution_count": 23,
   "metadata": {},
   "outputs": [],
   "source": [
    "    tnames = ('John','Sharon','Jack','Annie')\n",
    "tmarks = (32,50,75,12)\n"
   ]
  },
  {
   "cell_type": "code",
   "execution_count": 30,
   "metadata": {},
   "outputs": [
    {
     "name": "stdout",
     "output_type": "stream",
     "text": [
      "['Sharon', 'Jack']\n"
     ]
    }
   ],
   "source": [
    "def marks():\n",
    "    a=list(filter(lambda x:x[1]>40,zip(tnames,tmarks)))\n",
    "    b=[]\n",
    "    for i in a:\n",
    "        b.append(i[0])\n",
    "    print(b)\n",
    "marks()"
   ]
  },
  {
   "cell_type": "raw",
   "metadata": {},
   "source": [
    "6. A dictionary of names and their weights on earth is given. Find how much they will weigh\n",
    "on the moon. (use map and lambda functions)\n",
    "Weight of people in kg WeightOnEarth = {'John':45, 'Shelly':65, 'Marry':35}\n",
    "Gravitational force on the Moon GMoon = 1.622\n",
    "Gravitational force on the Earth GEarth = 9.81"
   ]
  },
  {
   "cell_type": "code",
   "execution_count": 31,
   "metadata": {},
   "outputs": [],
   "source": [
    "we = {'John':45, 'Shelly':65, 'Marry':35}\n",
    "gm = 1.622\n",
    "ge = 9.81"
   ]
  },
  {
   "cell_type": "code",
   "execution_count": 33,
   "metadata": {},
   "outputs": [
    {
     "data": {
      "text/plain": [
       "{'John': 7.44, 'Shelly': 10.75, 'Marry': 5.79}"
      ]
     },
     "execution_count": 33,
     "metadata": {},
     "output_type": "execute_result"
    }
   ],
   "source": [
    "dict(map(lambda x : (x, round((we[x]/ge)*gm, 2)), we))"
   ]
  },
  {
   "cell_type": "raw",
   "metadata": {},
   "source": [
    "7. A list containing multiple lists is given. Convert each inner list into sets and find\n",
    "intersection of all the sets (use reduce function)\n",
    "\n",
    "given_sets = [[1, 2, 3, 4, 8], [2, 3, 8, 5, 6], [8, 4, 5, 3, 7], [6, 9, 8, 3], [9, 12, 3, 7, 6, 8, 4, 6, 21, 1, 6]]"
   ]
  },
  {
   "cell_type": "code",
   "execution_count": 36,
   "metadata": {},
   "outputs": [
    {
     "data": {
      "text/plain": [
       "{3, 8}"
      ]
     },
     "execution_count": 36,
     "metadata": {},
     "output_type": "execute_result"
    }
   ],
   "source": [
    "from functools import reduce\n",
    "gs = [[1, 2, 3, 4, 8], [2, 3, 8, 5, 6], [8, 4, 5, 3, 7], [6, 9, 8, 3], [9, 12, 3, 7, 6, 8, 4, 6, 21, 1, 6]]\n",
    "\n",
    "reduce(lambda i,j:i&j,(set(x) for x in gs))"
   ]
  },
  {
   "cell_type": "markdown",
   "metadata": {},
   "source": [
    "8. Write a function to store the price of different products in the supermarket (number of\n",
    "products is not fxed."
   ]
  },
  {
   "cell_type": "code",
   "execution_count": 40,
   "metadata": {},
   "outputs": [
    {
     "name": "stdout",
     "output_type": "stream",
     "text": [
      "The Price is:  11\n",
      "The Price is:  12\n",
      "The Price is:  13\n",
      "The Price is:  14\n",
      "The Price is:  15\n",
      "The Price is:  16\n"
     ]
    }
   ],
   "source": [
    "def price(*p):\n",
    "    for i in p:\n",
    "        print('The Price is: ',i)\n",
    "price(11,12,13,14,15,16)"
   ]
  },
  {
   "cell_type": "markdown",
   "metadata": {},
   "source": [
    "9. Define a function to multiply two global variables, 16 and 12"
   ]
  },
  {
   "cell_type": "code",
   "execution_count": 56,
   "metadata": {},
   "outputs": [
    {
     "data": {
      "text/plain": [
       "16"
      ]
     },
     "execution_count": 56,
     "metadata": {},
     "output_type": "execute_result"
    }
   ],
   "source": [
    "a=16\n",
    "b=12\n",
    "\n",
    "def multiply(m):\n",
    "    m==a*b\n",
    "    return(m)\n",
    "multiply(m)"
   ]
  },
  {
   "cell_type": "code",
   "execution_count": null,
   "metadata": {},
   "outputs": [],
   "source": []
  }
 ],
 "metadata": {
  "kernelspec": {
   "display_name": "Python 3",
   "language": "python",
   "name": "python3"
  },
  "language_info": {
   "codemirror_mode": {
    "name": "ipython",
    "version": 3
   },
   "file_extension": ".py",
   "mimetype": "text/x-python",
   "name": "python",
   "nbconvert_exporter": "python",
   "pygments_lexer": "ipython3",
   "version": "3.8.5"
  }
 },
 "nbformat": 4,
 "nbformat_minor": 4
}
