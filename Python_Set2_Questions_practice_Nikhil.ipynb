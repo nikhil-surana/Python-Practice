{
 "cells": [
  {
   "cell_type": "markdown",
   "metadata": {},
   "source": [
    "<p style=\"background-color:#b5e7a0;font-size:18px;color:#4040a1\" size=\"4\"><b> Problem 16: </b> </p>"
   ]
  },
  {
   "cell_type": "raw",
   "metadata": {},
   "source": [
    "Find the sum of digits of a number\n",
    "\n",
    "Input: 145\n",
    "Output: 10\n",
    "\n",
    "Input: 74123\n",
    "Output: 17"
   ]
  },
  {
   "cell_type": "code",
   "execution_count": 30,
   "metadata": {},
   "outputs": [
    {
     "name": "stdout",
     "output_type": "stream",
     "text": [
      "Insert the number: 74123\n",
      "74123\n",
      "17\n"
     ]
    }
   ],
   "source": [
    "x=str(input('Insert the number: '))\n",
    "print(x)\n",
    "result=0\n",
    "for n in x:\n",
    "    result=result+int(n)\n",
    "print(result)\n",
    "    "
   ]
  },
  {
   "cell_type": "code",
   "execution_count": 28,
   "metadata": {},
   "outputs": [
    {
     "name": "stdout",
     "output_type": "stream",
     "text": [
      "6\n"
     ]
    }
   ],
   "source": [
    "result=0\n",
    "for n in x:\n",
    "    result=result+int(n)\n",
    "print(result)\n",
    "    "
   ]
  },
  {
   "cell_type": "markdown",
   "metadata": {},
   "source": [
    "<p style=\"background-color:#b5e7a0;font-size:18px;color:#4040a1\" size=\"4\"><b> Problem 17: </b> </p>"
   ]
  },
  {
   "cell_type": "raw",
   "metadata": {},
   "source": [
    "Find the factorial of a number\n",
    "\n",
    "Input:5\n",
    "Output:120"
   ]
  },
  {
   "cell_type": "code",
   "execution_count": 37,
   "metadata": {},
   "outputs": [
    {
     "name": "stdout",
     "output_type": "stream",
     "text": [
      "120\n"
     ]
    }
   ],
   "source": [
    "def fact(n): \n",
    "    if n==1:\n",
    "        return(1)\n",
    "    else:\n",
    "        return(n*fact(n-1))\n",
    "        \n",
    "print(fact(5))\n",
    "        \n",
    "    "
   ]
  },
  {
   "cell_type": "code",
   "execution_count": 43,
   "metadata": {},
   "outputs": [
    {
     "name": "stdout",
     "output_type": "stream",
     "text": [
      "number5\n",
      "120\n"
     ]
    }
   ],
   "source": [
    "x=int(input('number'))\n",
    "\n",
    "if x==0:\n",
    "    print('DNE')\n",
    "elif x==1:\n",
    "    print(1)\n",
    "else:\n",
    "    fact=1\n",
    "    for i in range(1,x+1):\n",
    "        fact=fact*i\n",
    "    print(fact)"
   ]
  },
  {
   "cell_type": "markdown",
   "metadata": {},
   "source": [
    "<p style=\"background-color:#b5e7a0;font-size:18px;color:#4040a1\" size=\"4\"><b> Problem 18: </b> </p>"
   ]
  },
  {
   "cell_type": "raw",
   "metadata": {},
   "source": [
    "Check whether the given number is prime number or not\n",
    "\n",
    "Input: 17\n",
    "Output: Prime number\n",
    "\n",
    "Input: 21\n",
    "Output: Composite number\n",
    "\n",
    "Input:1\n",
    "Output: Neither prime or composite"
   ]
  },
  {
   "cell_type": "code",
   "execution_count": 52,
   "metadata": {},
   "outputs": [
    {
     "name": "stdout",
     "output_type": "stream",
     "text": [
      "Enter a number for prime17\n",
      "it is a prime\n"
     ]
    }
   ],
   "source": [
    "n=int(input('Enter a number for prime'))\n",
    "flag=0\n",
    "for i in range(2,n):\n",
    "    if n%i== 0:\n",
    "        print('x')\n",
    "        flag=1\n",
    "if flag==1:\n",
    "    print('Not Prime')\n",
    "if flag==0:\n",
    "    print('it is a prime')"
   ]
  },
  {
   "cell_type": "markdown",
   "metadata": {},
   "source": [
    "<p style=\"background-color:#b5e7a0;font-size:18px;color:#4040a1\" size=\"4\"><b> Problem 19: </b> </p>"
   ]
  },
  {
   "cell_type": "code",
   "execution_count": null,
   "metadata": {},
   "outputs": [],
   "source": [
    "Transpose the given matrix\n",
    "X = [[10,20],  \n",
    "      [40,50],  \n",
    "     [70,80]]  "
   ]
  },
  {
   "cell_type": "code",
   "execution_count": 59,
   "metadata": {},
   "outputs": [],
   "source": [
    "X = [[10,20],  \n",
    "      [40,50],  \n",
    "     [70,80]]  \n",
    "  "
   ]
  },
  {
   "cell_type": "code",
   "execution_count": 62,
   "metadata": {},
   "outputs": [
    {
     "name": "stdout",
     "output_type": "stream",
     "text": [
      "[[10, 40, 70], [20, 50, 80]]\n"
     ]
    }
   ],
   "source": [
    "def trans(matrix):\n",
    "    rows=len(matrix)\n",
    "    col=len(matrix[0])\n",
    "    \n",
    "    matrixT=[]\n",
    "    for i in range(col):\n",
    "        row=[]\n",
    "        for j in range(rows):\n",
    "            row.append(matrix[j][i])\n",
    "        matrixT.append(row)\n",
    "    return(matrixT)\n",
    "print(trans(X))\n",
    "    "
   ]
  },
  {
   "cell_type": "markdown",
   "metadata": {},
   "source": [
    "<p style=\"background-color:#b5e7a0;font-size:18px;color:#4040a1\" size=\"4\"><b> Problem 20: </b> </p>"
   ]
  },
  {
   "cell_type": "code",
   "execution_count": null,
   "metadata": {},
   "outputs": [],
   "source": [
    "Print only the duplicate elements in the given list\n",
    "input_list = [9, 2, 3, 4, 2, 7, 10, 10, 3]     \n"
   ]
  },
  {
   "cell_type": "code",
   "execution_count": 77,
   "metadata": {},
   "outputs": [
    {
     "name": "stdout",
     "output_type": "stream",
     "text": [
      "[2, 3, 10]\n"
     ]
    }
   ],
   "source": [
    "m = [9, 2, 3, 4, 2, 7, 10, 10, 3] \n",
    "\n",
    "duplicate=[]\n",
    "for i in range(len(m)):\n",
    "    k=i+1\n",
    "    for j in range(k,len(m)):\n",
    "        if m[i]==m[j] and m[i] not in duplicate:\n",
    "            duplicate.append(m[j])\n",
    "print(duplicate)"
   ]
  },
  {
   "cell_type": "markdown",
   "metadata": {},
   "source": [
    "<p style=\"background-color:#b5e7a0;font-size:18px;color:#4040a1\" size=\"4\"><b> Problem 21: </b> </p>"
   ]
  },
  {
   "cell_type": "raw",
   "metadata": {},
   "source": [
    "Print the below pattern\n",
    " \n",
    "1  \n",
    "2 2  \n",
    "3 3 3  \n",
    "4 4 4 4  \n",
    "5 5 5 5 5  \n",
    "6 6 6 6 6 6  \n",
    "7 7 7 7 7 7 7  \n",
    "8 8 8 8 8 8 8 8  \n",
    "9 9 9 9 9 9 9 9 9 "
   ]
  },
  {
   "cell_type": "code",
   "execution_count": 85,
   "metadata": {},
   "outputs": [
    {
     "name": "stdout",
     "output_type": "stream",
     "text": [
      "1 \n",
      "2 2 \n",
      "3 3 3 \n",
      "4 4 4 4 \n",
      "5 5 5 5 5 \n",
      "6 6 6 6 6 6 \n",
      "7 7 7 7 7 7 7 \n",
      "8 8 8 8 8 8 8 8 \n",
      "9 9 9 9 9 9 9 9 9 \n"
     ]
    }
   ],
   "source": [
    "for i in range(1,10):\n",
    "    for j in range(1,i+1):\n",
    "        print(i,end=' ')\n",
    "    print()"
   ]
  },
  {
   "cell_type": "markdown",
   "metadata": {},
   "source": [
    "<p style=\"background-color:#b5e7a0;font-size:18px;color:#4040a1\" size=\"4\"><b> Problem 22: </b> </p>"
   ]
  },
  {
   "cell_type": "raw",
   "metadata": {},
   "source": [
    "Python Program to Create a Dictionary with Key as First Character and Value as Words Starting with that Character"
   ]
  },
  {
   "cell_type": "code",
   "execution_count": 109,
   "metadata": {},
   "outputs": [
    {
     "name": "stdout",
     "output_type": "stream",
     "text": [
      "['My', 'name', 'is', 'Nikhil']\n",
      "My\n",
      "name\n",
      "is\n",
      "Nikhil\n",
      "{'M': ['My'], 'n': ['name'], 'i': ['is'], 'N': ['Nikhil']}\n"
     ]
    }
   ],
   "source": [
    "inputs= 'My name is Nikhil'\n",
    "words=inputs.split()\n",
    "print(words)\n",
    "\n",
    "dic={}\n",
    "\n",
    "for i in words:\n",
    "    print(i)\n",
    "    if (i[0] not in dic.keys()):\n",
    "        dic[i[0]]=[]\n",
    "        dic[i[0]].append(i)\n",
    "    else:\n",
    "        if (i not in dic[i[0]]):\n",
    "            dic[i[0]].append(i)\n",
    "print(dic)"
   ]
  },
  {
   "cell_type": "markdown",
   "metadata": {},
   "source": [
    "<p style=\"background-color:#b5e7a0;font-size:18px;color:#4040a1\" size=\"4\"><b> Problem 23: </b> </p>"
   ]
  },
  {
   "cell_type": "raw",
   "metadata": {
    "id": "Tu--uHc1euze"
   },
   "source": [
    "Python Program that Displays which Letters are in the Two Strings but not in Both"
   ]
  },
  {
   "cell_type": "code",
   "execution_count": 114,
   "metadata": {},
   "outputs": [
    {
     "name": "stdout",
     "output_type": "stream",
     "text": [
      "The letters are:\n",
      "l\n",
      "h\n",
      "s\n",
      "u\n"
     ]
    }
   ],
   "source": [
    "P= 'I am Nikhil'\n",
    "Q= 'Nik is my nick name'\n",
    "\n",
    "p='nikhil'\n",
    "q='sunik'\n",
    "\n",
    "a=list(set(p)^set(q))\n",
    "print(\"The letters are:\")\n",
    "for i in a:\n",
    "    print(i)"
   ]
  },
  {
   "cell_type": "markdown",
   "metadata": {},
   "source": [
    "<p style=\"background-color:#b5e7a0;font-size:18px;color:#4040a1\" size=\"4\"><b> Problem 24: </b> </p>"
   ]
  },
  {
   "cell_type": "raw",
   "metadata": {
    "id": "9cUUQflleuzf"
   },
   "source": [
    "Python Program to Find All Numbers which are Odd and Palindromes Between a Range of Numbers"
   ]
  },
  {
   "cell_type": "code",
   "execution_count": 121,
   "metadata": {},
   "outputs": [
    {
     "name": "stdout",
     "output_type": "stream",
     "text": [
      "input a number: 1\n",
      "enter another number:1000\n",
      "2,4,6,8,22,44,66,88,202,212,222,232,242,252,262,272,282,292,404,414,424,434,444,454,464,474,484,494,606,616,626,636,646,656,666,676,686,696,808,818,828,838,848,858,868,878,888,898,"
     ]
    }
   ],
   "source": [
    "n=int(input('input a number: '))\n",
    "m=int(input('enter another number:'))\n",
    "r=range(n,m+1)\n",
    "for i in r:\n",
    "    if (i%2==0 and str(i)==str(i)[::-1]):\n",
    "        print(i,end=',')"
   ]
  },
  {
   "cell_type": "markdown",
   "metadata": {},
   "source": [
    "<p style=\"background-color:#b5e7a0;font-size:18px;color:#4040a1\" size=\"4\"><b> Problem 25: </b> </p>"
   ]
  },
  {
   "cell_type": "raw",
   "metadata": {
    "id": "f0VNpzQ9euzf"
   },
   "source": [
    "Python Program to find the binary equivalent of a number"
   ]
  },
  {
   "cell_type": "code",
   "execution_count": 126,
   "metadata": {},
   "outputs": [
    {
     "name": "stdout",
     "output_type": "stream",
     "text": [
      "Enter a number: 11\n",
      "Binary Equivalent is: \n",
      "1 0 1 1 "
     ]
    }
   ],
   "source": [
    "n=int(input(\"Enter a number: \"))\n",
    "a=[]\n",
    "while(n>0):\n",
    "    x=n%2\n",
    "    a.append(x)\n",
    "    n=n//2\n",
    "a.reverse()\n",
    "print(\"Binary Equivalent is: \")\n",
    "for i in a:\n",
    "    print(i,end=\" \")"
   ]
  }
 ],
 "metadata": {
  "kernelspec": {
   "display_name": "Python 3",
   "language": "python",
   "name": "python3"
  },
  "language_info": {
   "codemirror_mode": {
    "name": "ipython",
    "version": 3
   },
   "file_extension": ".py",
   "mimetype": "text/x-python",
   "name": "python",
   "nbconvert_exporter": "python",
   "pygments_lexer": "ipython3",
   "version": "3.8.5"
  }
 },
 "nbformat": 4,
 "nbformat_minor": 4
}
