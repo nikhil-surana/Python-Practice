{
 "cells": [
  {
   "cell_type": "markdown",
   "metadata": {},
   "source": [
    "1. Write a code to print table of 5 using assignment operand +=."
   ]
  },
  {
   "cell_type": "code",
   "execution_count": 10,
   "metadata": {},
   "outputs": [
    {
     "name": "stdout",
     "output_type": "stream",
     "text": [
      "5 X 1 = 5\n",
      "5 X 2 = 10\n",
      "5 X 3 = 15\n",
      "5 X 4 = 20\n",
      "5 X 5 = 25\n",
      "5 X 6 = 30\n",
      "5 X 7 = 35\n",
      "5 X 8 = 40\n",
      "5 X 9 = 45\n",
      "5 X 10 = 50\n"
     ]
    }
   ],
   "source": [
    "for i in range(1,11):\n",
    "    t=5 * i\n",
    "    print('5 X',i,'=',t)"
   ]
  },
  {
   "cell_type": "code",
   "execution_count": 8,
   "metadata": {},
   "outputs": [
    {
     "name": "stdout",
     "output_type": "stream",
     "text": [
      "5 X 1 = 5\n",
      "5 X 2 = 10\n",
      "5 X 3 = 15\n",
      "5 X 4 = 20\n",
      "5 X 5 = 25\n",
      "5 X 6 = 30\n",
      "5 X 7 = 35\n",
      "5 X 8 = 40\n",
      "5 X 9 = 45\n",
      "5 X 10 = 50\n"
     ]
    }
   ],
   "source": [
    "x=0\n",
    "for i in range(1,11):\n",
    "    x+=5\n",
    "    print('5 X',i,'=',x)"
   ]
  },
  {
   "cell_type": "markdown",
   "metadata": {},
   "source": [
    "2. Write a program for generating a fibonacci series starting with 0 and 1 for \n",
    "the next 10 values using a while loop."
   ]
  },
  {
   "cell_type": "code",
   "execution_count": 15,
   "metadata": {},
   "outputs": [
    {
     "name": "stdout",
     "output_type": "stream",
     "text": [
      "[0, 1]\n"
     ]
    },
    {
     "data": {
      "text/plain": [
       "[0, 1, 1, 2, 3, 5, 8, 13, 21, 34, 55, 89]"
      ]
     },
     "execution_count": 15,
     "metadata": {},
     "output_type": "execute_result"
    }
   ],
   "source": [
    "fibo=[] #empty list for answer\n",
    "a=0\n",
    "b=1\n",
    "fibo.extend([a,b]) # intial a,b\n",
    "print(fibo)\n",
    "i=1\n",
    "while i<11:\n",
    "    c=a+b  #create C\n",
    "    a=b    #moving ahead with values\n",
    "    b=c\n",
    "    i=i+1\n",
    "    fibo.append(c)\n",
    "fibo"
   ]
  },
  {
   "cell_type": "markdown",
   "metadata": {},
   "source": [
    "3. Write a program to check whether a number is greater than the other using if statement (take the input from user)."
   ]
  },
  {
   "cell_type": "code",
   "execution_count": 20,
   "metadata": {},
   "outputs": [
    {
     "name": "stdout",
     "output_type": "stream",
     "text": [
      "Insert the number 1, 15\n",
      "Insert the number 2, 16\n",
      "16 is greater than 15\n"
     ]
    }
   ],
   "source": [
    "x=int(input('Insert the number 1, '))\n",
    "y=int(input('Insert the number 2, '))\n",
    "\n",
    "if x>y:\n",
    "    print(x,'is greater than', y)\n",
    "elif x==y:\n",
    "    print('Same')\n",
    "else:\n",
    "    print(y,'is greater than', x)"
   ]
  },
  {
   "cell_type": "markdown",
   "metadata": {},
   "source": [
    "4. Write a code to check whether a number is divisible by 7 or not (take the input from user)."
   ]
  },
  {
   "cell_type": "code",
   "execution_count": 21,
   "metadata": {},
   "outputs": [
    {
     "name": "stdout",
     "output_type": "stream",
     "text": [
      "Insert the number 1, 49\n",
      "The number is divisible by 7\n"
     ]
    }
   ],
   "source": [
    "z=int(input('Insert the number 1, '))\n",
    "\n",
    "if z%7==0:\n",
    "    print('The number is divisible by 7')\n",
    "else:\n",
    "    print('not divi')"
   ]
  },
  {
   "cell_type": "markdown",
   "metadata": {},
   "source": [
    "\t\n",
    "5. Write a code to find factorial of a number (take the input from user)."
   ]
  },
  {
   "cell_type": "code",
   "execution_count": 32,
   "metadata": {},
   "outputs": [
    {
     "name": "stdout",
     "output_type": "stream",
     "text": [
      "Enter a number for factorial5\n",
      "factorial of 5 is: 120\n"
     ]
    }
   ],
   "source": [
    "x=int(input('Enter a number for factorial'))\n",
    "\n",
    "if x<0:\n",
    "    print('Factorial DNE')\n",
    "elif x==0:\n",
    "    print('Factorial is 1')\n",
    "else:\n",
    "    fact=1\n",
    "    for i in range(1,x+1):\n",
    "        fact=fact*i\n",
    "\n",
    "    print('factorial of',x,'is:',fact)"
   ]
  },
  {
   "cell_type": "markdown",
   "metadata": {},
   "source": [
    "6. Write a program to check whether a number is prime or not (take the input from user)."
   ]
  },
  {
   "cell_type": "code",
   "execution_count": 41,
   "metadata": {
    "scrolled": true
   },
   "outputs": [
    {
     "name": "stdout",
     "output_type": "stream",
     "text": [
      "Enter a number for prime29\n",
      "It is Prime\n"
     ]
    }
   ],
   "source": [
    "n=int(input('Enter a number for prime'))\n",
    "flag=0\n",
    "for i in range(2,n):\n",
    "    if n%i==0:\n",
    "        flag=1\n",
    "if flag==1:\n",
    "    print('The number is not prime')\n",
    "else:\n",
    "    print('It is Prime')\n"
   ]
  },
  {
   "cell_type": "markdown",
   "metadata": {},
   "source": [
    "7. Write a program to check whether two numbers are amicable or not (take the input from user)."
   ]
  },
  {
   "cell_type": "code",
   "execution_count": 45,
   "metadata": {},
   "outputs": [
    {
     "name": "stdout",
     "output_type": "stream",
     "text": [
      "Insert the number 1, 284\n",
      "Insert the number 2, 220\n",
      "The numbers are amicable\n"
     ]
    }
   ],
   "source": [
    "x=int(input('Insert the number 1, '))\n",
    "y=int(input('Insert the number 2, '))\n",
    "\n",
    "propdiv_x=[]\n",
    "propdic_y=[]\n",
    "\n",
    "for i in range(1,x):\n",
    "    if x%i==0:\n",
    "        propdiv_x.append(i) #Making List of proper divisor\n",
    "for i in range(1,y):\n",
    "    if y%i==0:\n",
    "        propdic_y.append(i)\n",
    "\n",
    "if (sum(propdiv_x)==y) and (sum(propdic_y)==x):\n",
    "    print('The numbers are amicable')\n",
    "else:\n",
    "    print('Not')\n",
    "\n"
   ]
  },
  {
   "cell_type": "markdown",
   "metadata": {},
   "source": [
    "8. Reverse string using a for loop (take the input from user)."
   ]
  },
  {
   "cell_type": "code",
   "execution_count": 52,
   "metadata": {
    "scrolled": true
   },
   "outputs": [
    {
     "name": "stdout",
     "output_type": "stream",
     "text": [
      "Inser the sentence sting Nikhil is my name\n",
      "eman ym si lihkiN\n"
     ]
    }
   ],
   "source": [
    "str1=str(input('Inser the sentence sting '))\n",
    "\n",
    "rev_s=''\n",
    "\n",
    "for i in str1:\n",
    "    rev_s= i + rev_s #i is kept where we want it\n",
    "print(rev_s)"
   ]
  },
  {
   "cell_type": "code",
   "execution_count": 69,
   "metadata": {},
   "outputs": [
    {
     "name": "stdout",
     "output_type": "stream",
     "text": [
      "Inser the sentence sting nikhil\n",
      "lihkin"
     ]
    }
   ],
   "source": [
    "str1=input('Inser the sentence sting ')\n",
    "\n",
    "for i in range(len(str1)-1,-1,-1):\n",
    "    print(str1[i],end='')"
   ]
  },
  {
   "cell_type": "markdown",
   "metadata": {},
   "source": [
    "9.Reverse string using a for loop (take the input from user). String must be corrctly"
   ]
  },
  {
   "cell_type": "code",
   "execution_count": 83,
   "metadata": {},
   "outputs": [
    {
     "name": "stdout",
     "output_type": "stream",
     "text": [
      "Inser the sentence sting nikhil is my name\n",
      "name my is nikhil \n"
     ]
    }
   ],
   "source": [
    "str1=str(input('Inser the sentence sting ')).split()\n",
    "op=''\n",
    "for i in range(len(str1)):\n",
    "    op=op + str1[len(str1)-i-1]+' '\n",
    "print(op)"
   ]
  },
  {
   "cell_type": "markdown",
   "metadata": {},
   "source": [
    "10. Write a code to find the average of given numbers (take the input from user)."
   ]
  },
  {
   "cell_type": "code",
   "execution_count": 104,
   "metadata": {},
   "outputs": [
    {
     "name": "stdout",
     "output_type": "stream",
     "text": [
      "insert all the numbers to find the average of :10 20 30\n",
      "20.0\n"
     ]
    }
   ],
   "source": [
    "nums= input('insert all the numbers to find the average of :').split()\n",
    "n=0\n",
    "new_list=0\n",
    "for i in nums:\n",
    "    i= int(i)\n",
    "    new_list += i\n",
    "    n=n+1\n",
    "print(new_list/n)"
   ]
  },
  {
   "cell_type": "markdown",
   "metadata": {},
   "source": [
    "11. Write a program to print tables from 2 to a user provided range (use for loop)"
   ]
  },
  {
   "cell_type": "code",
   "execution_count": 105,
   "metadata": {},
   "outputs": [
    {
     "name": "stdout",
     "output_type": "stream",
     "text": [
      "Enter a number in range: 3\n",
      "2  X  1  =  2\n",
      "2  X  2  =  4\n",
      "2  X  3  =  6\n",
      "2  X  4  =  8\n",
      "2  X  5  =  10\n",
      "2  X  6  =  12\n",
      "2  X  7  =  14\n",
      "2  X  8  =  16\n",
      "2  X  9  =  18\n",
      "2  X  10  =  20\n",
      "\n",
      "\n",
      "3  X  1  =  3\n",
      "3  X  2  =  6\n",
      "3  X  3  =  9\n",
      "3  X  4  =  12\n",
      "3  X  5  =  15\n",
      "3  X  6  =  18\n",
      "3  X  7  =  21\n",
      "3  X  8  =  24\n",
      "3  X  9  =  27\n",
      "3  X  10  =  30\n",
      "\n",
      "\n"
     ]
    }
   ],
   "source": [
    "range_num = int(input('Enter a number in range: '))\n",
    "\n",
    "# use for loop to print tables \n",
    "for n in range(2 , range_num + 1):\n",
    "    for i in range(1,11):\n",
    "        print(n, ' X ', i, ' = ', n*i)     \n",
    "    print(\"\\n\")"
   ]
  },
  {
   "cell_type": "markdown",
   "metadata": {},
   "source": [
    "12. Write a program to remove space from keys of the given dictionary (use for loop)"
   ]
  },
  {
   "cell_type": "code",
   "execution_count": 106,
   "metadata": {},
   "outputs": [
    {
     "name": "stdout",
     "output_type": "stream",
     "text": [
      " New dictionary :  {'Fruits01': 'Apple', 'Fruits02': 'Orange', 'Fruits03': 'Grapes'}\n"
     ]
    }
   ],
   "source": [
    "fruity = {'Fruits 01' : 'Apple', 'Fruits 02' : 'Orange', \n",
    "                'Fruits 0 3 ': 'Grapes'}; \n",
    "  \n",
    "# removing spaces from keys \n",
    "# storing them in same dictionary \n",
    "fruity = {x.replace(' ', ''): v for x, v in fruity.items()} \n",
    "  \n",
    "# printing new dictionary \n",
    "print (\" New dictionary : \",fruity) "
   ]
  },
  {
   "cell_type": "markdown",
   "metadata": {},
   "source": [
    "13. Write a program to add the cubes of first 5 positive integers (use while loop)"
   ]
  },
  {
   "cell_type": "code",
   "execution_count": 107,
   "metadata": {},
   "outputs": [
    {
     "name": "stdout",
     "output_type": "stream",
     "text": [
      "Sum of first five cubes: 225\n"
     ]
    }
   ],
   "source": [
    "# set the sum to zero\n",
    "cube_sum = 0\n",
    "\n",
    "# initiate the value of 'i'\n",
    "i=1\n",
    "\n",
    "# use while loop to add the cubes \n",
    "while i < 6: \n",
    "    cubes = i**3                   # calculate cube of integer\n",
    "    i +=1                          # incerease the value of 'i' by 1\n",
    "    cube_sum = cube_sum + cubes    # add the cube to previous sum\n",
    "    \n",
    "# print the sum\n",
    "print (\"Sum of first five cubes:\" , cube_sum)    "
   ]
  },
  {
   "cell_type": "code",
   "execution_count": null,
   "metadata": {},
   "outputs": [],
   "source": []
  }
 ],
 "metadata": {
  "kernelspec": {
   "display_name": "Python 3",
   "language": "python",
   "name": "python3"
  },
  "language_info": {
   "codemirror_mode": {
    "name": "ipython",
    "version": 3
   },
   "file_extension": ".py",
   "mimetype": "text/x-python",
   "name": "python",
   "nbconvert_exporter": "python",
   "pygments_lexer": "ipython3",
   "version": "3.8.5"
  }
 },
 "nbformat": 4,
 "nbformat_minor": 4
}
