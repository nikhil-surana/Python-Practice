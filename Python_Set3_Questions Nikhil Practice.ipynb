{
 "cells": [
  {
   "cell_type": "markdown",
   "metadata": {},
   "source": [
    "<p style=\"background-color:#b5e7a0;font-size:18px;color:#4040a1\" size=\"4\"><b> Problem 1: </b> </p>"
   ]
  },
  {
   "cell_type": "markdown",
   "metadata": {},
   "source": [
    "### Find two numbers when multiplied together give you specified number using the for loop."
   ]
  },
  {
   "cell_type": "markdown",
   "metadata": {},
   "source": [
    "****Sample Output for 45:****\n",
    "\n",
    "1 x 45 = 45\n",
    "\n",
    "3 x 15 = 45\n",
    "\n",
    "5 x 9 = 45\n",
    "\n",
    "9 x 5 = 45\n",
    "\n",
    "15 x 3 = 45\n",
    "\n",
    "45 x 1 = 45\n",
    "\n",
    "\n",
    "**Sample Output for 78:**\n",
    "\n",
    "1 x 78 = 78\n",
    "\n",
    "2 x 39 = 78\n",
    "\n",
    "3 x 26 = 78\n",
    "\n",
    "6 x 13 = 78\n",
    "\n",
    "13 x 6 = 78\n",
    "\n",
    "26 x 3 = 78\n",
    "\n",
    "39 x 2 = 78\n",
    "\n",
    "78 x 1 = 78\n"
   ]
  },
  {
   "cell_type": "code",
   "execution_count": 20,
   "metadata": {},
   "outputs": [
    {
     "name": "stdout",
     "output_type": "stream",
     "text": [
      "1 X 48 = 48\n",
      "2 X 24 = 48\n",
      "3 X 16 = 48\n",
      "4 X 12 = 48\n",
      "6 X 8 = 48\n",
      "8 X 6 = 48\n",
      "12 X 4 = 48\n",
      "16 X 3 = 48\n",
      "24 X 2 = 48\n",
      "48 X 1 = 48\n"
     ]
    }
   ],
   "source": [
    "def mult(n):\n",
    "    for i in range(1,n+1):\n",
    "        for j in range(1,n+1):\n",
    "            if i*j==n:\n",
    "                print(i, 'X', j, '=', n)\n",
    "    \n",
    "mult(48)"
   ]
  },
  {
   "cell_type": "code",
   "execution_count": 21,
   "metadata": {},
   "outputs": [
    {
     "name": "stdout",
     "output_type": "stream",
     "text": [
      "1 X 78 = 78\n",
      "2 X 39 = 78\n",
      "3 X 26 = 78\n",
      "6 X 13 = 78\n",
      "13 X 6 = 78\n",
      "26 X 3 = 78\n",
      "39 X 2 = 78\n",
      "78 X 1 = 78\n"
     ]
    }
   ],
   "source": [
    "mult(78)"
   ]
  },
  {
   "cell_type": "markdown",
   "metadata": {},
   "source": [
    "<p style=\"background-color:#b5e7a0;font-size:18px;color:#4040a1\" size=\"4\"><b> Problem 2: </b> </p>"
   ]
  },
  {
   "cell_type": "raw",
   "metadata": {
    "id": "dF5_LfTEeuzg"
   },
   "source": [
    "Write a Python Program for Bubble Sort"
   ]
  },
  {
   "cell_type": "raw",
   "metadata": {},
   "source": [
    "Bubble Sort is the simplest sorting algorithm that works by repeatedly swapping the adjacent elements if they are in wrong order."
   ]
  },
  {
   "cell_type": "code",
   "execution_count": 22,
   "metadata": {},
   "outputs": [],
   "source": [
    "list=[5,6,7,9,8,4,6,5,7,8,9,5,1,2,4,6,8]"
   ]
  },
  {
   "cell_type": "code",
   "execution_count": 32,
   "metadata": {},
   "outputs": [],
   "source": [
    "def bubble(x):\n",
    "    for i in range(len(x)-1):\n",
    "        for j in range(0,len(x)-i-1):\n",
    "            if x[j]> x[j+1]:\n",
    "                x[j],x[j+1]=x[j+1],x[j]\n",
    "                \n",
    "bubble(listb)\n"
   ]
  },
  {
   "cell_type": "code",
   "execution_count": 33,
   "metadata": {},
   "outputs": [
    {
     "data": {
      "text/plain": [
       "[1, 2, 4, 4, 5, 5, 5, 6, 6, 6, 7, 7, 8, 8, 8, 9, 9]"
      ]
     },
     "execution_count": 33,
     "metadata": {},
     "output_type": "execute_result"
    }
   ],
   "source": [
    "listb"
   ]
  },
  {
   "cell_type": "markdown",
   "metadata": {},
   "source": [
    "<p style=\"background-color:#b5e7a0;font-size:18px;color:#4040a1\" size=\"4\"><b> Problem 3: </b> </p>"
   ]
  },
  {
   "cell_type": "markdown",
   "metadata": {},
   "source": [
    "### Write a single function to check a (Special Character, Alphabet, digital Numbers) "
   ]
  },
  {
   "cell_type": "markdown",
   "metadata": {},
   "source": [
    "**Sample Output_1:** \n",
    "    \n",
    "    Enter a character: L\n",
    "        \n",
    "    Alphabet \n",
    "\n",
    "   \n",
    "**Sample Output_2:**  \n",
    "    \n",
    "    Enter a character: 7\n",
    "        \n",
    "    Digit Number\n",
    "\n",
    "    \n",
    "**Sample Output_3:** \n",
    "    \n",
    "    Enter a character: &\n",
    "    \n",
    "    Special Character \n",
    "    "
   ]
  },
  {
   "cell_type": "code",
   "execution_count": 34,
   "metadata": {},
   "outputs": [
    {
     "name": "stdout",
     "output_type": "stream",
     "text": [
      "Please Enter Any Character : L\n",
      "The Given Character  L is an Alphabet\n"
     ]
    }
   ],
   "source": [
    "ch = input(\"Please Enter Any Character : \")\n",
    " \n",
    "if((ch >= 'a' and ch <= 'z') or (ch >= 'A' and ch <= 'Z')): \n",
    "    print(\"The Given Character \", ch, \"is an Alphabet\") \n",
    "elif(ch >= '0' and ch <= '9'):\n",
    "    print(\"The Given Character \", ch, \"is a Digit\")\n",
    "else:\n",
    "    print(\"The Given Character \", ch, \"is a Special Character\")"
   ]
  },
  {
   "cell_type": "code",
   "execution_count": 35,
   "metadata": {},
   "outputs": [
    {
     "name": "stdout",
     "output_type": "stream",
     "text": [
      "Please Enter Any Character : 7\n",
      "The Given Character  7 is a Digit\n"
     ]
    }
   ],
   "source": [
    "ch = input(\"Please Enter Any Character : \")\n",
    " \n",
    "if(ch.isdigit()):\n",
    "    print(\"The Given Character \", ch, \"is a Digit\")\n",
    "elif(ch.isalpha()):\n",
    "    print(\"The Given Character \", ch, \"is an Alphabet\")\n",
    "else:\n",
    "    print(\"The Given Character \", ch, \"is a Special Character\")"
   ]
  },
  {
   "cell_type": "markdown",
   "metadata": {},
   "source": [
    "<p style=\"background-color:#b5e7a0;font-size:18px;color:#4040a1\" size=\"4\"><b> Problem 4: </b> </p>"
   ]
  },
  {
   "cell_type": "markdown",
   "metadata": {},
   "source": [
    "##  Delhi Home Minister said  that the government traffic police officers got a new responsibility to record the even and odd car license plate numbers. After that, you have to follow the below rules.\n",
    "\n",
    "Rule1: Odd-numbered cars to run on Monday, Wednesday, and Friday\n",
    "\n",
    "Rule2:Even-numbered cars to run on Tuesday, Thursday, and Saturday \n",
    "\n",
    "Rule3: Odd-Even-numbered cars to run on Sunday \n",
    "\n",
    "Students must create a program following the above rules.\n",
    "\n",
    "Enter day of a week(Monday to Sunday):Mo\n",
    "\n",
    "AP8765\n",
    "\n",
    "KA5483\n",
    "\n",
    "ML1767\n",
    "\n",
    "\n",
    "Enter day of a week(Monday to Sunday):Tu\n",
    "\n",
    "AP1234\n",
    "\n",
    "KL6354\n",
    "\n",
    "KA9882\n",
    "\n",
    "MP2838\n",
    "\n",
    "\n",
    "Enter day of a week(Monday to Sunday):SU\n",
    "\n",
    "AP1234\n",
    "\n",
    "KL6354\n",
    "\n",
    "\n",
    "KA9882\n",
    "\n",
    "AP8765\n",
    "\n",
    "KA5483\n",
    "\n",
    "ML1767\n",
    "\n",
    "MP2838"
   ]
  },
  {
   "cell_type": "markdown",
   "metadata": {},
   "source": [
    "##### Link : https://www.indiatvnews.com/video/delhi-odd-numbered-cars-to-run-on-monday-wednesday-and-friday-91865.131.html"
   ]
  },
  {
   "cell_type": "code",
   "execution_count": 71,
   "metadata": {},
   "outputs": [],
   "source": [
    "Numplate=['AP8765','KA5483','ML1767','AP1234','KL6354','KA9882','AP8765','KA5483','ML1767','MP2838']\n",
    "\n",
    "odays=['Monday','Wednesday','Friday']\n",
    "edays=['Tuesday','Thursday','Saturday']"
   ]
  },
  {
   "cell_type": "code",
   "execution_count": 158,
   "metadata": {},
   "outputs": [
    {
     "name": "stdout",
     "output_type": "stream",
     "text": [
      "enter the string : Sunday\n",
      "AP8765\n",
      "KA5483\n",
      "ML1767\n",
      "AP1234\n",
      "KL6354\n",
      "KA9882\n",
      "AP8765\n",
      "KA5483\n",
      "ML1767\n",
      "MP2838\n"
     ]
    }
   ],
   "source": [
    "\n",
    "def dehioe(Insert):\n",
    "    Insert=input('enter the string : ')\n",
    "    if Insert in odays:\n",
    "        for o in Numplate:\n",
    "            if int(o[-1])%2 != 0:\n",
    "                print(o)\n",
    "    elif Insert in edays:\n",
    "        for e in Numplate:\n",
    "            if int(e[-1])%2 == 0:\n",
    "                print(e)\n",
    "    elif Insert == 'Sunday':\n",
    "        for s in Numplate:\n",
    "            print(s)\n",
    "    else:\n",
    "        print('Warning: Enter Correct Day')\n",
    "dehioe(Insert)"
   ]
  },
  {
   "cell_type": "code",
   "execution_count": 78,
   "metadata": {},
   "outputs": [
    {
     "name": "stdout",
     "output_type": "stream",
     "text": [
      "enter the string : Tuessday\n",
      "Warning: Enter Correct Day\n"
     ]
    }
   ],
   "source": [
    "dehioe(Insert)"
   ]
  },
  {
   "cell_type": "code",
   "execution_count": 80,
   "metadata": {},
   "outputs": [
    {
     "name": "stdout",
     "output_type": "stream",
     "text": [
      "enter the string : Tuesday\n",
      "AP1234\n",
      "KL6354\n",
      "KA9882\n",
      "MP2838\n"
     ]
    }
   ],
   "source": [
    "dehioe(Insert)"
   ]
  },
  {
   "cell_type": "markdown",
   "metadata": {},
   "source": [
    "<p style=\"background-color:#b5e7a0;font-size:18px;color:#4040a1\" size=\"4\"><b> Problem 5: </b> </p>"
   ]
  },
  {
   "cell_type": "markdown",
   "metadata": {},
   "source": [
    "### You're a python developer in amazon's online shop company.You got a new responsibility to create an amazon's shopping list by following the sample output\n",
    "\n",
    "**Sample output:** \n",
    "\n",
    "\n",
    "\n",
    "Welcome to amazon shopping list.\n",
    "\n",
    "You want to add to your amazon shopping list? Yes or No:yes\n",
    "\n",
    "Enter your Item to the cart:bag\n",
    "\n",
    "want to add to your shopping list? Yes or No:yes\n",
    "\n",
    "Enter your Item to the cart:milk\n",
    "\n",
    "want to add to your shopping list? Yes or No:no\n",
    "\n",
    "\n",
    "\n",
    "Here is your shopping list of items\n",
    "\n",
    "bag\n",
    "\n",
    "milk"
   ]
  },
  {
   "cell_type": "code",
   "execution_count": 114,
   "metadata": {
    "scrolled": true
   },
   "outputs": [
    {
     "name": "stdout",
     "output_type": "stream",
     "text": [
      "Welcome to amazon shopping list\n",
      " \n",
      "You want to add to your amazon shopping list? Yes or No : yes\n",
      "Enter your Item to the cart:bag\n",
      "You want to add to your amazon shopping list? Yes or No : yes\n",
      "Enter your Item to the cart:milk\n",
      "You want to add to your amazon shopping list? Yes or No : no\n",
      "Here is your shopping list of items: \n",
      "\n",
      "bag\n",
      "\n",
      "milk\n"
     ]
    }
   ],
   "source": [
    "\n",
    "def azshop():\n",
    "    yn=''\n",
    "    print('Welcome to amazon shopping list')\n",
    "    print(' ')\n",
    "    yn=input('You want to add to your amazon shopping list? Yes or No : ').lower()\n",
    "    cart=[]\n",
    "    \n",
    "    while yn=='yes':\n",
    "        cart.append(input('Enter your Item to the cart:'))\n",
    "        yn=input('You want to add to your amazon shopping list? Yes or No : ').lower()\n",
    "\n",
    "    print ('Here is your shopping list of items: ',*cart,sep='\\n''\\n')\n",
    "    return\n",
    "    \n",
    "azshop()"
   ]
  },
  {
   "cell_type": "raw",
   "metadata": {},
   "source": [
    "Write a program to get the number of days in a month\n",
    "\n",
    "Input:\n",
    "January\n",
    "Output:\n",
    "31 days"
   ]
  },
  {
   "cell_type": "code",
   "execution_count": 81,
   "metadata": {},
   "outputs": [
    {
     "name": "stdout",
     "output_type": "stream",
     "text": [
      "List of months: January, February, March, April, May, June, July, August, September, October, November, December\n",
      "Input the name of Month: January\n",
      "No. of days: 31 day\n"
     ]
    }
   ],
   "source": [
    "print(\"List of months: January, February, March, April, May, June, July, August, September, October, November, December\")\n",
    "month_name = input(\"Input the name of Month: \")\n",
    "\n",
    "if month_name == \"February\":\n",
    "\tprint(\"No. of days: 28/29 days\")\n",
    "elif month_name in (\"April\", \"June\", \"September\", \"November\"):\n",
    "\tprint(\"No. of days: 30 days\")\n",
    "elif month_name in (\"January\", \"March\", \"May\", \"July\", \"August\", \"October\", \"December\"):\n",
    "\tprint(\"No. of days: 31 day\")\n",
    "else:\n",
    "\tprint(\"Wrong month name\") "
   ]
  },
  {
   "cell_type": "markdown",
   "metadata": {},
   "source": [
    "<p style=\"background-color:#b5e7a0;font-size:18px;color:#4040a1\" size=\"4\"><b> Problem 7: </b> </p>"
   ]
  },
  {
   "cell_type": "raw",
   "metadata": {
    "id": "KiGPjVdWeuzd"
   },
   "source": [
    "Python Program to Find the Total Sum of a Nested List Using Recursion"
   ]
  },
  {
   "cell_type": "code",
   "execution_count": 137,
   "metadata": {},
   "outputs": [],
   "source": [
    "listx=[5,98,545,[54,9,[9,7,8]]]"
   ]
  },
  {
   "cell_type": "code",
   "execution_count": 138,
   "metadata": {},
   "outputs": [
    {
     "name": "stdout",
     "output_type": "stream",
     "text": [
      "5\n",
      "98\n",
      "545\n",
      "[54, 9, [9, 7, 8]]\n"
     ]
    }
   ],
   "source": [
    "for i in range(len(listx)):\n",
    "    print(listx[i])"
   ]
  },
  {
   "cell_type": "code",
   "execution_count": 118,
   "metadata": {},
   "outputs": [],
   "source": [
    "#Base Case, recursive call"
   ]
  },
  {
   "cell_type": "code",
   "execution_count": 154,
   "metadata": {},
   "outputs": [
    {
     "data": {
      "text/plain": [
       "735"
      ]
     },
     "execution_count": 154,
     "metadata": {},
     "output_type": "execute_result"
    }
   ],
   "source": [
    "def suml(x, re=0):\n",
    "    for i in range(len(x)):\n",
    "        if type(x[i])==int:\n",
    "            re=re + x[i]\n",
    "        else:\n",
    "            listX=x[i]\n",
    "            return(suml(listX, re))\n",
    "    return (re)\n",
    "\n",
    "suml(listx)"
   ]
  },
  {
   "cell_type": "code",
   "execution_count": 153,
   "metadata": {},
   "outputs": [
    {
     "data": {
      "text/plain": [
       "735"
      ]
     },
     "execution_count": 153,
     "metadata": {},
     "output_type": "execute_result"
    }
   ],
   "source": [
    "def slist(y):\n",
    "    \n",
    "    to=0\n",
    "    for i in range(len(y)):\n",
    "        if type(y[i])==list:\n",
    "            to=to+slist(y[i])\n",
    "            \n",
    "        else:\n",
    "            to=to+y[i]\n",
    "    return to\n",
    "\n",
    "slist(listx)\n",
    "    "
   ]
  },
  {
   "cell_type": "code",
   "execution_count": null,
   "metadata": {},
   "outputs": [],
   "source": []
  }
 ],
 "metadata": {
  "kernelspec": {
   "display_name": "Python 3",
   "language": "python",
   "name": "python3"
  },
  "language_info": {
   "codemirror_mode": {
    "name": "ipython",
    "version": 3
   },
   "file_extension": ".py",
   "mimetype": "text/x-python",
   "name": "python",
   "nbconvert_exporter": "python",
   "pygments_lexer": "ipython3",
   "version": "3.8.5"
  }
 },
 "nbformat": 4,
 "nbformat_minor": 4
}
