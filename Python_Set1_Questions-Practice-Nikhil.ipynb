{
 "cells": [
  {
   "cell_type": "markdown",
   "metadata": {},
   "source": [
    "<p style=\"background-color:#b5e7a0;font-size:18px;color:#4040a1\" size=\"4\"><b> Problem 1: </b> </p>"
   ]
  },
  {
   "cell_type": "raw",
   "metadata": {},
   "source": [
    "i) Print values from 1 to N\n",
    "ii) Print values N to 1\n",
    "\n",
    "i)\n",
    "Input: 5\n",
    "Output :\n",
    "1\n",
    "2\n",
    "3\n",
    "4\n",
    "5\n",
    "\n",
    "ii)\n",
    "Input :5\n",
    "Output :\n",
    "5\n",
    "4\n",
    "3\n",
    "2\n",
    "1"
   ]
  },
  {
   "cell_type": "code",
   "execution_count": 20,
   "metadata": {},
   "outputs": [
    {
     "name": "stdout",
     "output_type": "stream",
     "text": [
      "insert the number5\n",
      "1 2 3 4 5 "
     ]
    }
   ],
   "source": [
    "n=int(input('insert the number'))\n",
    "\n",
    "for i in range(1,n+1):\n",
    "    print(i,end=' ')"
   ]
  },
  {
   "cell_type": "code",
   "execution_count": 21,
   "metadata": {},
   "outputs": [
    {
     "name": "stdout",
     "output_type": "stream",
     "text": [
      "insert the number5\n",
      "5 4 3 2 1 "
     ]
    }
   ],
   "source": [
    "n=int(input('insert the number'))\n",
    "\n",
    "for i in range(n,0,-1):\n",
    "    print(i,end=' ')"
   ]
  },
  {
   "cell_type": "markdown",
   "metadata": {},
   "source": [
    "<p style=\"background-color:#b5e7a0;font-size:18px;color:#4040a1\" size=\"4\"><b> Problem 2: </b> </p>"
   ]
  },
  {
   "cell_type": "raw",
   "metadata": {},
   "source": [
    "i) Print values odd values from 1 to N\n",
    "ii)Print values even values from 1 to N\n",
    "\n",
    "i)\n",
    "Input: 5\n",
    "Output :\n",
    "1\n",
    "3\n",
    "5\n",
    "\n",
    "ii)\n",
    "Input :5\n",
    "Output :\n",
    "2\n",
    "4"
   ]
  },
  {
   "cell_type": "code",
   "execution_count": 24,
   "metadata": {},
   "outputs": [
    {
     "name": "stdout",
     "output_type": "stream",
     "text": [
      "insert the number10\n",
      "2 4 6 8 "
     ]
    }
   ],
   "source": [
    "n=int(input('insert the number'))\n",
    "\n",
    "for i in range(2,n,2):\n",
    "    print(i,end=' ')"
   ]
  },
  {
   "cell_type": "code",
   "execution_count": 27,
   "metadata": {},
   "outputs": [
    {
     "name": "stdout",
     "output_type": "stream",
     "text": [
      "insert the number10\n",
      "1 3 5 7 9 "
     ]
    }
   ],
   "source": [
    "n=int(input('insert the number'))\n",
    "\n",
    "for i in range(1,n,2):\n",
    "    print(i,end=' ')"
   ]
  },
  {
   "cell_type": "markdown",
   "metadata": {},
   "source": [
    "<p style=\"background-color:#b5e7a0;font-size:18px;color:#4040a1\" size=\"4\"><b> Problem 3: </b> </p>"
   ]
  },
  {
   "cell_type": "raw",
   "metadata": {},
   "source": [
    "i)Print values odd values from N to 1\n",
    "ii)Print values even values from N to 1\n",
    "\n",
    "\n",
    "i)\n",
    "Input: 5\n",
    "Output :\n",
    "5\n",
    "3\n",
    "1\n",
    "\n",
    "ii)\n",
    "Input :5\n",
    "Output :\n",
    "4\n",
    "2"
   ]
  },
  {
   "cell_type": "code",
   "execution_count": 40,
   "metadata": {},
   "outputs": [
    {
     "name": "stdout",
     "output_type": "stream",
     "text": [
      "insert the number10\n",
      "10 8 6 4 2 "
     ]
    }
   ],
   "source": [
    "n=int(input('insert the even number'))\n",
    "\n",
    "for i in range(n,0,-2):\n",
    "    print(i,end=' ')"
   ]
  },
  {
   "cell_type": "code",
   "execution_count": 41,
   "metadata": {},
   "outputs": [
    {
     "name": "stdout",
     "output_type": "stream",
     "text": [
      "insert the even number10\n",
      "9 7 5 3 1 "
     ]
    }
   ],
   "source": [
    "n=int(input('insert the even number'))\n",
    "\n",
    "for i in range(n-1,0,-2):\n",
    "    print(i,end=' ')"
   ]
  },
  {
   "cell_type": "markdown",
   "metadata": {},
   "source": [
    "<p style=\"background-color:#b5e7a0;font-size:18px;color:#4040a1\" size=\"4\"><b> Problem 4: </b> </p>"
   ]
  },
  {
   "cell_type": "raw",
   "metadata": {},
   "source": [
    " Print the numbers from 1-N which is divisible by 5 and 8\n",
    "\n",
    "Input:300\n",
    "Output:\n",
    "40\n",
    "80\n",
    "120\n",
    "160\n",
    "200\n",
    "240\n",
    "280"
   ]
  },
  {
   "cell_type": "code",
   "execution_count": 44,
   "metadata": {},
   "outputs": [
    {
     "name": "stdout",
     "output_type": "stream",
     "text": [
      "insert the even number300\n",
      "40 80 120 160 200 240 280 "
     ]
    }
   ],
   "source": [
    "n=int(input('insert the even number'))\n",
    "for i in range(1,n):\n",
    "    if i%5==0 and i%8==0:\n",
    "        print(i,end=' ')"
   ]
  },
  {
   "cell_type": "markdown",
   "metadata": {},
   "source": [
    "<p style=\"background-color:#b5e7a0;font-size:18px;color:#4040a1\" size=\"4\"><b> Problem 5: </b> </p>"
   ]
  },
  {
   "cell_type": "raw",
   "metadata": {},
   "source": [
    "Check whether the given year is leap year or not.\n",
    "\n",
    "Input: 1996\n",
    "Output: 1996 : Leap Year\n",
    "    \n",
    "Input: 1900\n",
    "Output: 1900 : Not a leap year\n",
    "\n",
    "Input: 2001\n",
    "Output: 2001 : Not a leap year"
   ]
  },
  {
   "cell_type": "code",
   "execution_count": 52,
   "metadata": {},
   "outputs": [
    {
     "name": "stdout",
     "output_type": "stream",
     "text": [
      "insert the even number1996\n",
      "This is leap year 1996\n"
     ]
    }
   ],
   "source": [
    "n=int(input('insert the even number'))\n",
    "\n",
    "if n%400==0 or n%100!=0 and n%4==0:\n",
    "    print('This is leap year' ,n)\n",
    "    \n",
    "else:\n",
    "    print('This is not a leap year' ,n)"
   ]
  },
  {
   "cell_type": "code",
   "execution_count": 53,
   "metadata": {
    "scrolled": true
   },
   "outputs": [
    {
     "name": "stdout",
     "output_type": "stream",
     "text": [
      "insert the even number1900\n",
      "This is not a leap year 1900\n"
     ]
    }
   ],
   "source": [
    "n=int(input('insert the even number'))\n",
    "\n",
    "if n%400==0 or n%100!=0 and n%4==0:\n",
    "    print('This is leap year' ,n)\n",
    "    \n",
    "else:\n",
    "    print('This is not a leap year' ,n)"
   ]
  },
  {
   "cell_type": "code",
   "execution_count": 54,
   "metadata": {},
   "outputs": [
    {
     "name": "stdout",
     "output_type": "stream",
     "text": [
      "insert the even number2001\n",
      "This is not a leap year 2001\n"
     ]
    }
   ],
   "source": [
    "n=int(input('insert the even number'))\n",
    "\n",
    "if n%400==0 or n%100!=0 and n%4==0:\n",
    "    print('This is leap year' ,n)\n",
    "    \n",
    "else:\n",
    "    print('This is not a leap year' ,n)"
   ]
  },
  {
   "cell_type": "markdown",
   "metadata": {},
   "source": [
    "### 5.1 Find the leap years between 2000 and 2100"
   ]
  },
  {
   "cell_type": "code",
   "execution_count": 57,
   "metadata": {},
   "outputs": [
    {
     "name": "stdout",
     "output_type": "stream",
     "text": [
      "2000  2004  2008  2012  2016  2020  2024  2028  2032  2036  2040  2044  2048  2052  2056  2060  2064  2068  2072  2076  2080  2084  2088  2092  2096  "
     ]
    }
   ],
   "source": [
    "for i in range(2000,2100):\n",
    "    if i%400==0 or i%100!=0 and i%4==0:\n",
    "        print(i,end='  ')"
   ]
  },
  {
   "cell_type": "markdown",
   "metadata": {},
   "source": [
    "<p style=\"background-color:#b5e7a0;font-size:18px;color:#4040a1\" size=\"4\"><b> Problem 6: </b> </p>"
   ]
  },
  {
   "cell_type": "raw",
   "metadata": {},
   "source": [
    "i)  Filter only odd values from list. Store it in a new list. And print the new list.\n",
    "ii) Filter only even values from list.Store it in a new list. And print the new list.\n",
    "\n",
    "Input: [1,2,3,4,5]\n",
    "Output: [1,3,5]\n",
    "    \n",
    "Input: [1,2,3,4,5]\n",
    "Output: [2,4]"
   ]
  },
  {
   "cell_type": "code",
   "execution_count": 64,
   "metadata": {},
   "outputs": [
    {
     "data": {
      "text/plain": [
       "[1, 3, 5]"
      ]
     },
     "execution_count": 64,
     "metadata": {},
     "output_type": "execute_result"
    }
   ],
   "source": [
    "x=list(filter(lambda i:i%2!=0,[1,2,3,4,5]))\n",
    "x"
   ]
  },
  {
   "cell_type": "code",
   "execution_count": 65,
   "metadata": {},
   "outputs": [
    {
     "data": {
      "text/plain": [
       "[2, 4]"
      ]
     },
     "execution_count": 65,
     "metadata": {},
     "output_type": "execute_result"
    }
   ],
   "source": [
    "e=list(filter(lambda i:i%2==0, [1,2,3,4,5]))\n",
    "e"
   ]
  },
  {
   "cell_type": "markdown",
   "metadata": {},
   "source": [
    "<p style=\"background-color:#b5e7a0;font-size:18px;color:#4040a1\" size=\"4\"><b> Problem 7: </b> </p>"
   ]
  },
  {
   "cell_type": "raw",
   "metadata": {},
   "source": [
    "i) Find the sum of values in the list using while loop\n",
    "ii) Find the product of values in the list using while loop\n",
    "\n",
    "Input: [1,2,3,4,5]\n",
    "Output: 15\n",
    "\n",
    "Input: [1,2,3,4,5]\n",
    "Output: 120"
   ]
  },
  {
   "cell_type": "code",
   "execution_count": 26,
   "metadata": {},
   "outputs": [
    {
     "name": "stdout",
     "output_type": "stream",
     "text": [
      "x1234\n"
     ]
    }
   ],
   "source": [
    "x=int(input('x'))"
   ]
  },
  {
   "cell_type": "code",
   "execution_count": 29,
   "metadata": {},
   "outputs": [
    {
     "name": "stdout",
     "output_type": "stream",
     "text": [
      "1,2,3,4,5\n",
      "[1, 2, 3, 4, 5]\n",
      "15\n"
     ]
    }
   ],
   "source": [
    "total=0\n",
    "n=[int(x) for x in input().split(',')]\n",
    "print(n)\n",
    "i=0\n",
    "while (i<len(n)):\n",
    "    total=total+n[i]\n",
    "    i=i+1\n",
    "print(total)"
   ]
  },
  {
   "cell_type": "code",
   "execution_count": 30,
   "metadata": {},
   "outputs": [
    {
     "name": "stdout",
     "output_type": "stream",
     "text": [
      "1,2,3,4,5\n",
      "[1, 2, 3, 4, 5]\n",
      "120\n"
     ]
    }
   ],
   "source": [
    "total=1\n",
    "n=[int(x) for x in input().split(',')]\n",
    "print(n)\n",
    "i=0\n",
    "while (i<len(n)):\n",
    "    total=total*n[i]\n",
    "    i=i+1\n",
    "print(total)"
   ]
  },
  {
   "cell_type": "markdown",
   "metadata": {},
   "source": [
    "<p style=\"background-color:#b5e7a0;font-size:18px;color:#4040a1\" size=\"4\"><b> Problem 8: </b> </p>"
   ]
  },
  {
   "cell_type": "raw",
   "metadata": {},
   "source": [
    "In the given list,find the sqrt of positive number and print \"not determined\" for negative number\n",
    "\n",
    "Input: [4,25,-4,-25,100]\n",
    "Output: [2,5,\"not determined\",\"not determined\",10]"
   ]
  },
  {
   "cell_type": "code",
   "execution_count": 34,
   "metadata": {},
   "outputs": [
    {
     "name": "stdout",
     "output_type": "stream",
     "text": [
      "4 25 -4 -25 100\n"
     ]
    },
    {
     "data": {
      "text/plain": [
       "[2.0, 5.0, 'Not Det', 'Not Det', 10.0]"
      ]
     },
     "execution_count": 34,
     "metadata": {},
     "output_type": "execute_result"
    }
   ],
   "source": [
    "l=[int(i) for i in input().split(' ')]\n",
    "op=list(map(lambda x: x**(1/2) if (x>0) else 'Not Det',l))\n",
    "op"
   ]
  },
  {
   "cell_type": "markdown",
   "metadata": {},
   "source": [
    "<p style=\"background-color:#b5e7a0;font-size:18px;color:#4040a1\" size=\"4\"><b> Problem 9: </b> </p>"
   ]
  },
  {
   "cell_type": "raw",
   "metadata": {},
   "source": [
    "Filter only the vowels from the string\n",
    "\n",
    "Input: \"greatlearning\"\n",
    "output: \n",
    "['e', 'a', 'e', 'a', 'i']"
   ]
  },
  {
   "cell_type": "code",
   "execution_count": 43,
   "metadata": {},
   "outputs": [
    {
     "data": {
      "text/plain": [
       "['e', 'a', 'e', 'a', 'i']"
      ]
     },
     "execution_count": 43,
     "metadata": {},
     "output_type": "execute_result"
    }
   ],
   "source": [
    "Input=(\"greatlearning\")\n",
    "vowels=['a','e','i','o','u']\n",
    "f=list(filter(lambda x:x in vowels, Input))\n",
    "f"
   ]
  },
  {
   "cell_type": "code",
   "execution_count": 45,
   "metadata": {},
   "outputs": [
    {
     "name": "stdout",
     "output_type": "stream",
     "text": [
      "['e', 'a', 'e', 'a', 'i']\n"
     ]
    }
   ],
   "source": [
    "fil=[]\n",
    "for i in Input:\n",
    "    if i in vowels:\n",
    "        fil.append(i)\n",
    "print(fil)"
   ]
  },
  {
   "cell_type": "markdown",
   "metadata": {},
   "source": [
    "<p style=\"background-color:#b5e7a0;font-size:18px;color:#4040a1\" size=\"4\"><b> Problem 10: </b> </p>"
   ]
  },
  {
   "cell_type": "raw",
   "metadata": {},
   "source": [
    "Print the words which starts with consonants in a given sentence.\n",
    "\n",
    "Input: \"this is an information about programming\"\n",
    "Output\n",
    "['this', 'programming']"
   ]
  },
  {
   "cell_type": "code",
   "execution_count": 51,
   "metadata": {},
   "outputs": [
    {
     "name": "stdout",
     "output_type": "stream",
     "text": [
      "['this', 'is', 'an', 'information', 'about', 'programming']\n"
     ]
    },
    {
     "data": {
      "text/plain": [
       "['this', 'programming']"
      ]
     },
     "execution_count": 51,
     "metadata": {},
     "output_type": "execute_result"
    }
   ],
   "source": [
    "string=(\"this is an information about programming\")\n",
    "print(string.split())\n",
    "li=list(filter(lambda x:x[0] not in vowels,string.split()))\n",
    "li"
   ]
  },
  {
   "cell_type": "markdown",
   "metadata": {},
   "source": [
    "<p style=\"background-color:#b5e7a0;font-size:18px;color:#4040a1\" size=\"4\"><b> Problem 11: </b> </p>"
   ]
  },
  {
   "cell_type": "raw",
   "metadata": {},
   "source": [
    "Given a list of the string. Store the length of each element in the new list.print the list\n",
    "\n",
    "Input: ['great','learning','data','science','machine','learning']\n",
    "Output:[5,8,4,7,7,8]"
   ]
  },
  {
   "cell_type": "code",
   "execution_count": 63,
   "metadata": {},
   "outputs": [
    {
     "name": "stdout",
     "output_type": "stream",
     "text": [
      "[5, 8, 4, 7, 7, 8]\n"
     ]
    }
   ],
   "source": [
    "In=['great','learning','data','science','machine','learning']\n",
    "ns=[]\n",
    "for i in In:\n",
    "    ns.append(len(i))\n",
    "print(ns)"
   ]
  },
  {
   "cell_type": "markdown",
   "metadata": {},
   "source": [
    "<p style=\"background-color:#b5e7a0;font-size:18px;color:#4040a1\" size=\"4\"><b> Problem 12: </b> </p>"
   ]
  },
  {
   "cell_type": "raw",
   "metadata": {},
   "source": [
    "Filter the palindrome numbers in the given tuple and save it in the tuple.\n",
    "\n",
    "Input:(10,11,12,21,22,101,123,111,152)\n",
    "Output:(11,22,101,111)"
   ]
  },
  {
   "cell_type": "code",
   "execution_count": 72,
   "metadata": {},
   "outputs": [],
   "source": [
    "tup=(10,11,12,21,22,101,123,111,152)"
   ]
  },
  {
   "cell_type": "code",
   "execution_count": 76,
   "metadata": {},
   "outputs": [
    {
     "name": "stdout",
     "output_type": "stream",
     "text": [
      "11\n",
      "22\n",
      "101\n",
      "111\n"
     ]
    }
   ],
   "source": [
    "for i in tup:\n",
    "    if str(i)==str(i)[::-1]:\n",
    "        print(i)\n",
    "        "
   ]
  },
  {
   "cell_type": "code",
   "execution_count": 77,
   "metadata": {},
   "outputs": [],
   "source": [
    "t=tuple(i for i in tup if str(i)==str(i)[::-1] )"
   ]
  },
  {
   "cell_type": "code",
   "execution_count": 78,
   "metadata": {},
   "outputs": [
    {
     "data": {
      "text/plain": [
       "(11, 22, 101, 111)"
      ]
     },
     "execution_count": 78,
     "metadata": {},
     "output_type": "execute_result"
    }
   ],
   "source": [
    "t"
   ]
  },
  {
   "cell_type": "markdown",
   "metadata": {},
   "source": [
    "<p style=\"background-color:#b5e7a0;font-size:18px;color:#4040a1\" size=\"4\"><b> Problem 13: </b> </p>"
   ]
  },
  {
   "cell_type": "raw",
   "metadata": {},
   "source": [
    "Iterate through a dictionary and print the keys and values whose values are divided by 3.\n",
    "\n",
    "Input : {1:5,2:9,3:15,4:12}\n",
    "Output:\n",
    "(2,9)\n",
    "(3,15)\n",
    "(4,12)"
   ]
  },
  {
   "cell_type": "code",
   "execution_count": 94,
   "metadata": {},
   "outputs": [
    {
     "name": "stdout",
     "output_type": "stream",
     "text": [
      "[(2, 9), (3, 15), (4, 12)]\n"
     ]
    }
   ],
   "source": [
    "In={1:5,2:9,3:15,4:12}\n",
    "\n",
    "newDict = list(filter(lambda x : x[1] % 3 == 0,In.items()))\n",
    "print(newDict)"
   ]
  },
  {
   "cell_type": "code",
   "execution_count": 103,
   "metadata": {},
   "outputs": [
    {
     "name": "stdout",
     "output_type": "stream",
     "text": [
      "(2, 9)\n",
      "(3, 15)\n",
      "(4, 12)\n"
     ]
    }
   ],
   "source": [
    "for (key,value) in In.items():\n",
    "    if value%3==0:\n",
    "        print((key,value))"
   ]
  },
  {
   "cell_type": "markdown",
   "metadata": {},
   "source": [
    "<p style=\"background-color:#b5e7a0;font-size:18px;color:#4040a1\" size=\"4\"><b> Problem 14: </b> </p>"
   ]
  },
  {
   "cell_type": "code",
   "execution_count": null,
   "metadata": {},
   "outputs": [],
   "source": [
    "Filter the keys which are even number and store it in another dictionary. And display it\n",
    "Input : {1:5,2:9,3:15,4:12,5:10}\n",
    "Output: {2:9,4:12}"
   ]
  },
  {
   "cell_type": "code",
   "execution_count": 106,
   "metadata": {},
   "outputs": [
    {
     "name": "stdout",
     "output_type": "stream",
     "text": [
      "{2: 9, 4: 12}\n"
     ]
    }
   ],
   "source": [
    "newdict=dict()\n",
    "Inp={1:5,2:9,3:15,4:12,5:10}\n",
    "for (key,value) in Inp.items():\n",
    "    if key%2==0:\n",
    "        newdict[key]= value\n",
    "print(newdict)"
   ]
  },
  {
   "cell_type": "markdown",
   "metadata": {},
   "source": [
    "<p style=\"background-color:#b5e7a0;font-size:18px;color:#4040a1\" size=\"4\"><b> Problem 15: </b> </p>"
   ]
  },
  {
   "cell_type": "raw",
   "metadata": {},
   "source": [
    "Print the mathematical table from 1-10 for give N number\n",
    "\n",
    "\n",
    "Input:3\n",
    "Output:\n",
    "1 * 3 = 3\n",
    "2 * 3 = 6\n",
    "3 * 3 = 9\n",
    "4 * 3 = 12\n",
    "5 * 3 = 15\n",
    "6 * 3 = 18\n",
    "7 * 3 = 21\n",
    "8 * 3 = 24\n",
    "9 * 3 = 27\n",
    "10 * 3 = 30\n",
    "\n",
    "\n",
    "Input:5\n",
    "Output:\n",
    "1 * 5 = 5\n",
    "2 * 5 = 10\n",
    "3 * 5 = 15\n",
    "4 * 5 = 20\n",
    "5 * 5 = 25\n",
    "6 * 5 = 30\n",
    "7 * 5 = 35\n",
    "8 * 5 = 40\n",
    "9 * 5 = 45\n",
    "10 * 5 = 50"
   ]
  },
  {
   "cell_type": "code",
   "execution_count": 114,
   "metadata": {},
   "outputs": [
    {
     "name": "stdout",
     "output_type": "stream",
     "text": [
      "1 * 3 = 3\n",
      "2 * 3 = 6\n",
      "3 * 3 = 9\n",
      "4 * 3 = 12\n",
      "5 * 3 = 15\n",
      "6 * 3 = 18\n",
      "7 * 3 = 21\n",
      "8 * 3 = 24\n",
      "9 * 3 = 27\n",
      "10 * 3 = 30\n",
      "    \n",
      "1 * 5 = 5\n",
      "2 * 5 = 10\n",
      "3 * 5 = 15\n",
      "4 * 5 = 20\n",
      "5 * 5 = 25\n",
      "6 * 5 = 30\n",
      "7 * 5 = 35\n",
      "8 * 5 = 40\n",
      "9 * 5 = 45\n",
      "10 * 5 = 50\n"
     ]
    }
   ],
   "source": [
    "def table(num):\n",
    "    for i in range(1,11):\n",
    "        x=num*i\n",
    "        print(i,'*',num,'=',x)\n",
    "table(3)\n",
    "print('    ')\n",
    "table(5)"
   ]
  },
  {
   "cell_type": "code",
   "execution_count": 120,
   "metadata": {},
   "outputs": [
    {
     "name": "stdout",
     "output_type": "stream",
     "text": [
      "1\n",
      "3\n",
      "6\n",
      "10\n",
      "15\n",
      "21\n",
      "28\n",
      "36\n",
      "45\n",
      "55\n",
      "    \n",
      "1\n",
      "3\n",
      "6\n",
      "10\n",
      "15\n",
      "21\n",
      "28\n",
      "36\n",
      "45\n",
      "55\n"
     ]
    }
   ],
   "source": [
    "\n",
    "def table(num):\n",
    "    num=0\n",
    "    for i in range(1,11):\n",
    "        num=num+i\n",
    "        print(num)\n",
    "table(3)\n",
    "print('    ')\n",
    "table(5)"
   ]
  },
  {
   "cell_type": "code",
   "execution_count": null,
   "metadata": {},
   "outputs": [],
   "source": []
  }
 ],
 "metadata": {
  "kernelspec": {
   "display_name": "Python 3",
   "language": "python",
   "name": "python3"
  },
  "language_info": {
   "codemirror_mode": {
    "name": "ipython",
    "version": 3
   },
   "file_extension": ".py",
   "mimetype": "text/x-python",
   "name": "python",
   "nbconvert_exporter": "python",
   "pygments_lexer": "ipython3",
   "version": "3.8.5"
  }
 },
 "nbformat": 4,
 "nbformat_minor": 4
}
